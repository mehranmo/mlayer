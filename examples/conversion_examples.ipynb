{
 "cells": [
  {
   "cell_type": "markdown",
   "metadata": {},
   "source": [
    "# M-layer Conversion Examples",
    "\n",
    "Annotate values with digital identifiers and convert between different units."
   ]
  },
  {
   "cell_type": "code",
   "execution_count": null,
   "metadata": {},
   "outputs": [],
   "source": [
    "from dataclasses import dataclass",
    "\n",
    "@dataclass",
    "class AnnotatedValue:",
    "    value: float",
    "    unit: str",
    "    quantity_id: str",
    "    unit_id: str",
    "\n",
    "def annotate(value: float, unit: str, quantity_id: str, unit_id: str) -> AnnotatedValue:",
    "    return AnnotatedValue(value, unit, quantity_id, unit_id)",
    "\n",
    "ENERGY_FACTORS = {'J': 1.0, 'cal': 4.184, 'ft*lbf': 1.3558179483314}",
    "LENGTH_FACTORS = {'m': 1.0, 'ft': 0.3048}",
    "PRESSURE_FACTORS = {'Pa': 1.0, 'psi': 6894.757, 'bar': 1e5}",
    "VELOCITY_FACTORS = {'m/s': 1.0, 'km/h': 0.2777778, 'mph': 0.44704}",
    "MASSFRACTION_FACTORS = {'kg/kg': 1.0, '%': 0.01}",
    "\n",
    "def convert(value, unit_from, unit_to, factors):",
    "    base = value * factors[unit_from]",
    "    return base / factors[unit_to]",
    "\n",
    "def convert_temperature(value, unit_from, unit_to):",
    "    if unit_from == 'degC':",
    "        kelvin = value + 273.15",
    "    elif unit_from == 'degF':",
    "        kelvin = (value + 459.67) * 5/9",
    "    else:",
    "        kelvin = value",
    "    if unit_to == 'degC':",
    "        return kelvin - 273.15",
    "    elif unit_to == 'degF':",
    "        return kelvin * 9/5 - 459.67",
    "    else:",
    "        return kelvin"
   ]
  },
  {
   "cell_type": "code",
   "execution_count": null,
   "metadata": {},
   "outputs": [],
   "source": [
    "energy = annotate(10.5, 'J', 'QK-energy', 'U-joule')",
    "convert(energy.value, energy.unit, 'cal', ENERGY_FACTORS)"
   ]
  },
  {
   "cell_type": "code",
   "execution_count": null,
   "metadata": {},
   "outputs": [],
   "source": [
    "length = annotate(2.0, 'm', 'QK-length', 'U-m')",
    "convert(length.value, length.unit, 'ft', LENGTH_FACTORS)"
   ]
  },
  {
   "cell_type": "code",
   "execution_count": null,
   "metadata": {},
   "outputs": [],
   "source": [
    "temp = annotate(25.0, 'degC', 'QK-temperature', 'U-degC')",
    "convert_temperature(temp.value, temp.unit, 'degF')"
   ]
  },
  {
   "cell_type": "code",
   "execution_count": null,
   "metadata": {},
   "outputs": [],
   "source": [
    "pressure = annotate(101325.0, 'Pa', 'QK-pressure', 'U-Pa')",
    "convert(pressure.value, pressure.unit, 'psi', PRESSURE_FACTORS)"
   ]
  },
  {
   "cell_type": "code",
   "execution_count": null,
   "metadata": {},
   "outputs": [],
   "source": [
    "velocity = annotate(30.0, 'm/s', 'QK-velocity', 'U-m_per_s')",
    "convert(velocity.value, velocity.unit, 'mph', VELOCITY_FACTORS)"
   ]
  },
  {
   "cell_type": "code",
   "execution_count": null,
   "metadata": {},
   "outputs": [],
   "source": [
    "fraction = annotate(0.15, 'kg/kg', 'QK-mass_fraction', 'U-kg_per_kg')",
    "convert(fraction.value, fraction.unit, '%', MASSFRACTION_FACTORS)"
   ]
  }
 ],
 "metadata": {
  "kernelspec": {
   "display_name": "Python 3",
   "language": "python",
   "name": "python3"
  },
  "language_info": {
   "name": "python",
   "version": "3"
  }
 },
 "nbformat": 4,
 "nbformat_minor": 4
}
